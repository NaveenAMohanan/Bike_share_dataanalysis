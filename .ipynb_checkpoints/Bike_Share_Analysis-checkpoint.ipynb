{
 "cells": [
  {
   "cell_type": "markdown",
   "metadata": {},
   "source": [
    "# 2016 US Bike Share Activity Snapshot\n",
    "Naveen A Mohanan 10/02/2018\n",
    "\n",
    "**Linkedin:**[Naveen A M](https://www.linkedin.com/in/naveen-am)*(www.linkedin.com/in/naveen-am)*\n",
    "\n",
    "**Email:**naveen.am@yahoo.com"
   ]
  },
  {
   "cell_type": "markdown",
   "metadata": {},
   "source": [
    "## Table of Contents\n",
    "- [Introduction](#intro)\n",
    "- [Posing Questions](#pose_questions)\n",
    "- [Data Collection and Wrangling](#wrangling)\n",
    "  - [Condensing the Trip Data](#condensing)\n",
    "- [Exploratory Data Analysis](#eda)\n",
    "  - [Statistics](#statistics)\n",
    "  - [Visualizations](#visualizations)\n",
    "- [Performing Your Own Analysis](#eda_continued)\n",
    "- [Conclusions](#conclusions)\n",
    "\n",
    "<a id='intro'></a>\n",
    "## Introduction\n",
    "\n",
    "\n",
    "\n",
    "Over the past decade, bicycle-sharing systems have been growing in number and popularity in cities across the world. Bicycle-sharing systems allow users to rent bicycles for short trips, typically 30 minutes or less. Thanks to the rise in information technologies, it is easy for a user of the system to access a dock within the system to unlock or return bicycles. These technologies also provide a wealth of data that can be used to explore how these bike-sharing systems are used.\n",
    "\n",
    "In this project, you will perform an exploratory analysis on data provided by [Motivate](https://www.motivateco.com/), a bike-share system provider for many major cities in the United States. You will compare the system usage between three large cities: New York City, Chicago, and Washington, DC. You will also see if there are any differences within each system for those users that are registered, regular users and those users that are short-term, casual users."
   ]
  },
  {
   "cell_type": "markdown",
   "metadata": {},
   "source": [
    "<a id='pose_questions'></a>\n",
    "## Posing Questions\n",
    "\n",
    "Before looking at the bike sharing data, you should start by asking questions you might want to understand about the bike share data. Consider, for example, if you were working for Motivate. What kinds of information would you want to know about in order to make smarter business decisions? If you were a user of the bike-share service, what factors might influence how you would want to use the service?\n",
    "\n",
    ">__Question__ 1: As an member of motive group would like to know about the time ,weather, week , month when the user is most active , prices which most attract customers?\n",
    "\n",
    ">__Question 2__: As a user what is the best rate at which I can rent a bike and for how long?\n"
   ]
  },
  {
   "cell_type": "markdown",
   "metadata": {},
   "source": [
    "<a id='wrangling'></a>\n",
    "## Data Collection and Wrangling\n",
    "\n",
    "Now it's time to collect and explore our data. In this project, we will focus on the record of individual trips taken in 2016 from our selected cities: New York City, Chicago, and Washington, DC. Each of these cities has a page where we can freely download the trip data.:\n",
    "\n",
    "- New York City (Citi Bike): [Link](https://www.citibikenyc.com/system-data)\n",
    "- Chicago (Divvy): [Link](https://www.divvybikes.com/system-data)\n",
    "- Washington, DC (Capital Bikeshare): [Link](https://www.capitalbikeshare.com/system-data)\n",
    "\n",
    "If you visit these pages, you will notice that each city has a different way of delivering its data. Chicago updates with new data twice a year, Washington DC is quarterly, and New York City is monthly. **However, you do not need to download the data yourself.** The data has already been collected for you in the `/data/` folder of the project files. While the original data for 2016 is spread among multiple files for each city, the files in the `/data/` folder collect all of the trip data for the year into one file per city. Some data wrangling of inconsistencies in timestamp format within each city has already been performed for you. In addition, a random 2% sample of the original data is taken to make the exploration more manageable. \n",
    "\n",
    "**Question 2**: However, there is still a lot of data for us to investigate, so it's a good idea to start off by looking at one entry from each of the cities we're going to analyze. Run the first code cell below to load some packages and functions that you'll be using in your analysis. Then, complete the second code cell to print out the first trip recorded from each of the cities (the second line of each data file).\n"
   ]
  },
  {
   "cell_type": "code",
   "execution_count": 1,
   "metadata": {
    "collapsed": true
   },
   "outputs": [],
   "source": [
    "## import all necessary packages and functions.\n",
    "import csv # read and write csv files\n",
    "from datetime import datetime # operations to parse dates\n",
    "from pprint import pprint # use to print data structures like dictionaries in\n",
    "                          # a nicer way than the base print function."
   ]
  },
  {
   "cell_type": "code",
   "execution_count": 2,
   "metadata": {},
   "outputs": [
    {
     "name": "stdout",
     "output_type": "stream",
     "text": [
      "\n",
      "City: NYC\n",
      "OrderedDict([('tripduration', '839'),\n",
      "             ('starttime', '1/1/2016 00:09:55'),\n",
      "             ('stoptime', '1/1/2016 00:23:54'),\n",
      "             ('start station id', '532'),\n",
      "             ('start station name', 'S 5 Pl & S 4 St'),\n",
      "             ('start station latitude', '40.710451'),\n",
      "             ('start station longitude', '-73.960876'),\n",
      "             ('end station id', '401'),\n",
      "             ('end station name', 'Allen St & Rivington St'),\n",
      "             ('end station latitude', '40.72019576'),\n",
      "             ('end station longitude', '-73.98997825'),\n",
      "             ('bikeid', '17109'),\n",
      "             ('usertype', 'Customer'),\n",
      "             ('birth year', ''),\n",
      "             ('gender', '0')])\n",
      "\n",
      "City: Chicago\n",
      "OrderedDict([('trip_id', '9080545'),\n",
      "             ('starttime', '3/31/2016 23:30'),\n",
      "             ('stoptime', '3/31/2016 23:46'),\n",
      "             ('bikeid', '2295'),\n",
      "             ('tripduration', '926'),\n",
      "             ('from_station_id', '156'),\n",
      "             ('from_station_name', 'Clark St & Wellington Ave'),\n",
      "             ('to_station_id', '166'),\n",
      "             ('to_station_name', 'Ashland Ave & Wrightwood Ave'),\n",
      "             ('usertype', 'Subscriber'),\n",
      "             ('gender', 'Male'),\n",
      "             ('birthyear', '1990')])\n",
      "\n",
      "City: Washington\n",
      "OrderedDict([('Duration (ms)', '427387'),\n",
      "             ('Start date', '3/31/2016 22:57'),\n",
      "             ('End date', '3/31/2016 23:04'),\n",
      "             ('Start station number', '31602'),\n",
      "             ('Start station', 'Park Rd & Holmead Pl NW'),\n",
      "             ('End station number', '31207'),\n",
      "             ('End station', 'Georgia Ave and Fairmont St NW'),\n",
      "             ('Bike number', 'W20842'),\n",
      "             ('Member Type', 'Registered')])\n"
     ]
    }
   ],
   "source": [
    "def print_first_point(filename):\n",
    "    \"\"\"\n",
    "    This function prints and returns the first data point (second row) from\n",
    "    a csv file that includes a header row.\n",
    "    \"\"\"\n",
    "    # print city name for reference\n",
    "    city = filename.split('-')[0].split('/')[-1]\n",
    "    print('\\nCity: {}'.format(city))\n",
    "    \n",
    "    with open(filename, 'r') as f_in:\n",
    "        #trip_reader Dict obj of file \n",
    "        trip_reader = csv.DictReader(f_in)\n",
    "        \n",
    "        ##read the first trip from the data file and store it in a variable first trip.     \n",
    "        first_trip = next(trip_reader)\n",
    "        \n",
    "        ## Use the pprint library to print the first trip a nicer way than the base print function.\n",
    "        pprint(first_trip)\n",
    "        \n",
    "    # output city name and first trip for later testing\n",
    "    return (city, first_trip)\n",
    "\n",
    "# list of files for each city\n",
    "data_files = ['./data/NYC-CitiBike-2016.csv',\n",
    "              './data/Chicago-Divvy-2016.csv',\n",
    "              './data/Washington-CapitalBikeshare-2016.csv',]\n",
    "\n",
    "# print the first trip from each file, store in dictionary\n",
    "example_trips = {}\n",
    "for data_file in data_files:\n",
    "    city, first_trip = print_first_point(data_file)\n",
    "    example_trips[city] = first_trip"
   ]
  },
  {
   "cell_type": "markdown",
   "metadata": {},
   "source": [
    "\n",
    "<a id='condensing'></a>\n",
    "### Condensing the Trip Data\n",
    "\n",
    "It should also be observable from the above printout that each city provides different information. Even where the information is the same, the column names and formats are sometimes different. To make things as simple as possible when we get to the actual exploration, we should trim and clean the data. Cleaning the data makes sure that the data formats across the cities are consistent, while trimming focuses only on the parts of the data we are most interested in to make the exploration easier to work with.\n",
    "\n",
    "You will generate new data files with five values of interest for each trip: trip duration, starting month, starting hour, day of the week, and user type. Each of these may require additional wrangling depending on the city:\n",
    "\n",
    "- **Duration**: This has been given to us in seconds (New York, Chicago) or milliseconds (Washington). A more natural unit of analysis will be if all the trip durations are given in terms of minutes.\n",
    "- **Month**, **Hour**, **Day of Week**: Ridership volume is likely to change based on the season, time of day, and whether it is a weekday or weekend. Use the start time of the trip to obtain these values. The New York City data includes the seconds in their timestamps, while Washington and Chicago do not. The [`datetime`](https://docs.python.org/3/library/datetime.html) package will be very useful here to make the needed conversions.\n",
    "- **User Type**: It is possible that users who are subscribed to a bike-share system will have different patterns of use compared to users who only have temporary passes. Washington divides its users into two types: 'Registered' for users with annual, monthly, and other longer-term subscriptions, and 'Casual', for users with 24-hour, 3-day, and other short-term passes. The New York and Chicago data uses 'Subscriber' and 'Customer' for these groups, respectively. For consistency, you will convert the Washington labels to match the other two.\n",
    "\n",
    "\n",
    "**Question 3a**: Complete the helper functions in the code cells below to address each of the cleaning tasks described above."
   ]
  },
  {
   "cell_type": "code",
   "execution_count": 3,
   "metadata": {
    "collapsed": true
   },
   "outputs": [],
   "source": [
    "def duration_in_mins(datum, city):\n",
    "    # datum list sort and proceed according to city \n",
    "    duration = 0.0\n",
    "    if(city == 'Washington'):\n",
    "        t = int(datum['Duration (ms)'])\n",
    "        duration = t/60000  # ms to sec = (10^3 * 60) == 60000\n",
    "    \n",
    "    elif(city == 'NYC'):\n",
    "        t = int(datum['tripduration'])\n",
    "        duration = t/60\n",
    "\n",
    "    elif(city == 'Chicago'):\n",
    "        t = int(datum['tripduration'])\n",
    "        duration = t/60\n",
    "    \n",
    "    return duration\n",
    "\n",
    "\n",
    "# Some tests to check that your code works. There should be no output if all of\n",
    "# the assertions pass. The `example_trips` dictionary was obtained from when\n",
    "# you printed the first trip from each of the original data files.\n",
    "tests = {'NYC': 13.9833,\n",
    "         'Chicago': 15.4333,\n",
    "         'Washington': 7.1231}\n",
    "\n",
    "for city in tests:\n",
    "    assert abs(duration_in_mins(example_trips[city], city) - tests[city]) < .001"
   ]
  },
  {
   "cell_type": "code",
   "execution_count": 4,
   "metadata": {
    "collapsed": true
   },
   "outputs": [],
   "source": [
    "def time_of_trip(datum, city):\n",
    "    # A temp var(t) to extract date time Then sorting according to city and extract\n",
    "    # month, hr, day_of_week\n",
    "    if(city == 'Washington'):\n",
    "        t = datetime.strptime(datum['Start date'], '%m/%d/%Y %H:%M')\n",
    "        \n",
    "    elif(city == 'NYC'):\n",
    "        t = datetime.strptime(datum['starttime'], '%m/%d/%Y %H:%M:%S')\n",
    "\n",
    "    elif(city == 'Chicago'):\n",
    "        t = datetime.strptime(datum['starttime'], '%m/%d/%Y %H:%M')\n",
    "\n",
    "    month = int(t.strftime('%m'))\n",
    "    hour = int(t.strftime('%H'))\n",
    "    day_of_week = str(t.strftime('%A'))\n",
    "    \n",
    "    return (month, hour, day_of_week)\n",
    "\n",
    "\n",
    "# Some tests to check that your code works. There should be no output if all of\n",
    "# the assertions pass. The `example_trips` dictionary was obtained from when\n",
    "# you printed the first trip from each of the original data files.\n",
    "tests = {'NYC': (1, 0, 'Friday'),\n",
    "         'Chicago': (3, 23, 'Thursday'),\n",
    "         'Washington': (3, 22, 'Thursday')}\n",
    "\n",
    "for city in tests:\n",
    "    assert time_of_trip(example_trips[city], city) == tests[city]"
   ]
  },
  {
   "cell_type": "code",
   "execution_count": 5,
   "metadata": {
    "collapsed": true
   },
   "outputs": [],
   "source": [
    "def type_of_user(datum, city):\n",
    "    #Sort according to city then assign user type accordingly\n",
    "    t = ''\n",
    "    if(city == 'Washington'):\n",
    "        if str(datum['Member Type']) == 'Casual':\n",
    "            t = 'Customer'\n",
    "        else:\n",
    "            t = 'Subscriber'\n",
    "\n",
    "    elif(city == 'NYC'):\n",
    "        if str(datum['usertype']) == 'Customer':\n",
    "            t = 'Customer'\n",
    "        else:\n",
    "            t = 'Subscriber'\n",
    "\n",
    "    elif(city == 'Chicago'):\n",
    "        if str(datum['usertype']) == 'Customer':\n",
    "            t = 'Customer'\n",
    "        else:\n",
    "            t = 'Subscriber'\n",
    "    user_type = t\n",
    "    \n",
    "    \n",
    "    # YOUR CODE HERE\n",
    "    \n",
    "    return user_type\n",
    "\n",
    "\n",
    "# Some tests to check that your code works. There should be no output if all of\n",
    "# the assertions pass. The `example_trips` dictionary was obtained from when\n",
    "# you printed the first trip from each of the original data files.\n",
    "tests = {'NYC': 'Customer',\n",
    "         'Chicago': 'Subscriber',\n",
    "         'Washington': 'Subscriber'}\n",
    "\n",
    "for city in tests:\n",
    "    assert type_of_user(example_trips[city], city) == tests[city]"
   ]
  },
  {
   "cell_type": "markdown",
   "metadata": {},
   "source": [
    "**Question 3b**: Now, use the helper functions you wrote above to create a condensed data file for each city consisting only of the data fields indicated above. In the `/examples/` folder, you will see an example datafile from the [Bay Area Bike Share](http://www.bayareabikeshare.com/open-data) before and after conversion. Make sure that your output is formatted to be consistent with the example file."
   ]
  },
  {
   "cell_type": "code",
   "execution_count": 6,
   "metadata": {
    "collapsed": true
   },
   "outputs": [],
   "source": [
    "def condense_data(in_file, out_file, city):\n",
    "    \"\"\"\n",
    "    This function takes full data from the specified input file\n",
    "    and writes the condensed data to a specified output file. The city\n",
    "    argument determines how the input file will be parsed.\n",
    "    \"\"\"\n",
    "    \n",
    "    with open(out_file, 'w') as f_out, open(in_file, 'r') as f_in:\n",
    "        # set up csv DictWriter object - writer requires column names for the\n",
    "        # first row as the \"fieldnames\" argument\n",
    "        out_colnames = ['duration', 'month', 'hour', 'day_of_week', 'user_type']        \n",
    "        trip_writer = csv.DictWriter(f_out, fieldnames = out_colnames)\n",
    "        trip_writer.writeheader()\n",
    "        \n",
    "        ## set up csv DictReader object ##\n",
    "        trip_reader = csv.DictReader(f_in)\n",
    "\n",
    "        # collect data from and process each row\n",
    "        for row in trip_reader:\n",
    "            # a dictionary new_point to hold the values for the cleaned and trimmed\n",
    "            # data point\n",
    "            ## useing the helper functions to get the cleaned data from  ##\n",
    "            ## the original data dictionaries.           \n",
    "            duration = duration_in_mins(row, city)\n",
    "            \n",
    "            month, hour, day_of_week = time_of_trip(row, city)\n",
    "            \n",
    "            user_type = type_of_user(row, city)\n",
    "            \n",
    "            new_point = {'duration': duration, 'month': month, 'hour': hour,\n",
    "                         'day_of_week': day_of_week, 'user_type': user_type}\n",
    "            \n",
    "            ## write the processed information to the output file.     ##\n",
    "            trip_writer.writerow(new_point)\n",
    "            \n",
    "            "
   ]
  },
  {
   "cell_type": "code",
   "execution_count": 7,
   "metadata": {},
   "outputs": [
    {
     "name": "stdout",
     "output_type": "stream",
     "text": [
      "\n",
      "City: Washington\n",
      "OrderedDict([('duration', '7.123116666666666'),\n",
      "             ('month', '3'),\n",
      "             ('hour', '22'),\n",
      "             ('day_of_week', 'Thursday'),\n",
      "             ('user_type', 'Subscriber')])\n",
      "\n",
      "City: Chicago\n",
      "OrderedDict([('duration', '15.433333333333334'),\n",
      "             ('month', '3'),\n",
      "             ('hour', '23'),\n",
      "             ('day_of_week', 'Thursday'),\n",
      "             ('user_type', 'Subscriber')])\n",
      "\n",
      "City: NYC\n",
      "OrderedDict([('duration', '13.983333333333333'),\n",
      "             ('month', '1'),\n",
      "             ('hour', '0'),\n",
      "             ('day_of_week', 'Friday'),\n",
      "             ('user_type', 'Customer')])\n"
     ]
    }
   ],
   "source": [
    "# Run this cell to check your work\n",
    "city_info = {'Washington': {'in_file': './data/Washington-CapitalBikeshare-2016.csv',\n",
    "                            'out_file': './data/Washington-2016-Summary.csv'},\n",
    "             'Chicago': {'in_file': './data/Chicago-Divvy-2016.csv',\n",
    "                         'out_file': './data/Chicago-2016-Summary.csv'},\n",
    "             'NYC': {'in_file': './data/NYC-CitiBike-2016.csv',\n",
    "                     'out_file': './data/NYC-2016-Summary.csv'}}\n",
    "\n",
    "for city, filenames in city_info.items():\n",
    "    condense_data(filenames['in_file'], filenames['out_file'], city)\n",
    "    print_first_point(filenames['out_file'])"
   ]
  },
  {
   "cell_type": "markdown",
   "metadata": {},
   "source": [
    "\n",
    "<a id='eda'></a>\n",
    "## Exploratory Data Analysis\n",
    "\n",
    "Now that you have the data collected and wrangled, you're ready to start exploring the data. In this section you will write some code to compute descriptive statistics from the data. You will also be introduced to the `matplotlib` library to create some basic histograms of the data.\n",
    "\n",
    "<a id='statistics'></a>\n",
    "### Statistics\n",
    "\n",
    "First, let's compute some basic counts. The first cell below contains a function that uses the csv module to iterate through a provided data file, returning the number of trips made by subscribers and customers. The second cell runs this function on the example Bay Area data in the `/examples/` folder. Modify the cells to answer the question below.\n",
    "\n",
    "**Question 4a**: Which city has the highest number of trips? Which city has the highest proportion of trips made by subscribers? Which city has the highest proportion of trips made by short-term customers?\n",
    "\n",
    "**Answer**: \n",
    "Which city has the highest number of trips :**NYC** *(246613)*, \n",
    "Which city has the highest proportion of trips made by subscribers:**NYC** *(0.89)*, \n",
    "Which city has the highest proportion of trips made by short-term customers:**Chicago** *(0.24)*"
   ]
  },
  {
   "cell_type": "code",
   "execution_count": 8,
   "metadata": {
    "collapsed": true
   },
   "outputs": [],
   "source": [
    "def number_of_trips(filename):\n",
    "    \"\"\"\n",
    "    This function reads in a file with trip data and reports the number of\n",
    "    trips made by subscribers, customers, and total overall.\n",
    "    \"\"\"\n",
    "    with open(filename, 'r') as f_in:\n",
    "        # set up csv reader object\n",
    "        reader = csv.DictReader(f_in)\n",
    "        \n",
    "        # initialize count variables\n",
    "        n_subscribers = 0\n",
    "        n_customers = 0\n",
    "        \n",
    "        # tally up ride types\n",
    "        for row in reader:\n",
    "            if row['user_type'] == 'Subscriber':\n",
    "                n_subscribers += 1\n",
    "            else:\n",
    "                n_customers += 1\n",
    "        \n",
    "        # compute total number of rides\n",
    "        n_total = n_subscribers + n_customers\n",
    "       # print('subcriber={},customer={},')\n",
    "        # return tallies as a tuple\n",
    "        return(n_subscribers, n_customers, n_total)"
   ]
  },
  {
   "cell_type": "code",
   "execution_count": 9,
   "metadata": {},
   "outputs": [
    {
     "name": "stdout",
     "output_type": "stream",
     "text": [
      "city: (subscribers,customers,total,)\n",
      "Chicago:(54982, 17149, 72131)\n",
      "portion of subscribers=0.76\n",
      "portion of customer=0.24\n",
      "\n",
      "NYC:(246613, 30185, 276798)\n",
      "portion of subscribers=0.89\n",
      "portion of customer=0.11\n",
      "\n",
      "Washington:(51753, 14573, 66326)\n",
      "portion of subscribers=0.78\n",
      "portion of customer=0.22\n"
     ]
    }
   ],
   "source": [
    "## Modify this and the previous cell to answer Question 4a. Remember to run ##\n",
    "## the function on the cleaned data files you created from Question 3.      ##\n",
    "\n",
    "print('city: (subscribers,customers,total,)')\n",
    "\n",
    "data_file = './data/Chicago-2016-Summary.csv'\n",
    "print(\"Chicago:\"+str(number_of_trips(data_file)))\n",
    "ns,nc,t=number_of_trips(data_file)\n",
    "print('portion of subscribers={0:.2f}'.format(ns/t))\n",
    "print('portion of customer={0:.2f}'.format(nc/t))\n",
    "\n",
    "data_file = './data/NYC-2016-Summary.csv'\n",
    "print(\"\\nNYC:\"+str(number_of_trips(data_file)))\n",
    "ns,nc,t=number_of_trips(data_file)\n",
    "print('portion of subscribers={0:.2f}'.format(ns/t))\n",
    "print('portion of customer={0:.2f}'.format(nc/t))\n",
    "\n",
    "data_file = './data/Washington-2016-Summary.csv'\n",
    "print(\"\\nWashington:\"+str(number_of_trips(data_file)))\n",
    "ns,nc,t=number_of_trips(data_file)\n",
    "print('portion of subscribers={0:.2f}'.format(ns/t))\n",
    "print('portion of customer={0:.2f}'.format(nc/t))"
   ]
  },
  {
   "cell_type": "markdown",
   "metadata": {},
   "source": [
    "\n",
    "**Question 4b**: Bike-share systems are designed for riders to take short trips. Most of the time, users are allowed to take trips of 30 minutes or less with no additional charges, with overage charges made for trips of longer than that duration. What is the average trip length for each city? What proportion of rides made in each city are longer than 30 minutes?\n",
    "\n",
    "**Answer**: *Washington*, the average trip length is **18.93** minutes and **10.8%**of trips are longer than 30 minutes\n",
    "\n",
    "Chicago, the average trip length is 16.56 minutes and 8.3%of trips are longer than 30 minutes\n",
    "\n",
    "NYC, the average trip length is 15.81 minutes and 7.3%of trips are longer than 30 minutes"
   ]
  },
  {
   "cell_type": "code",
   "execution_count": 10,
   "metadata": {
    "collapsed": true,
    "scrolled": true
   },
   "outputs": [],
   "source": [
    "## Use this and additional cells to answer Question 4b.                 ##\n",
    "##                                                                      ##\n",
    "   \n",
    "def avg_trip_length(filename):\n",
    "    with open(filename, 'r') as f_in:\n",
    "        # set up csv reader object\n",
    "        reader = csv.DictReader(f_in)\n",
    "        #initialise temp var\n",
    "        total = 0\n",
    "        total_duration = 0\n",
    "        temp_30longer = 0\n",
    "\n",
    "        for row in reader:\n",
    "            total += 1\n",
    "            duration = float(row['duration'])\n",
    "            if duration > 30.0:\n",
    "                temp_30longer += 1\n",
    "            total_duration += duration\n",
    "            \n",
    "        avg_length = total_duration/total\n",
    "        per_longer = (temp_30longer/total) * 100#percent longer than 30min\n",
    "    return(avg_length, per_longer)"
   ]
  },
  {
   "cell_type": "code",
   "execution_count": 11,
   "metadata": {},
   "outputs": [
    {
     "name": "stdout",
     "output_type": "stream",
     "text": [
      "Washington, the average trip length is 18.93 minutes\n",
      "and 10.8%of trips are longer than 30 minutes\n",
      "\n",
      "Chicago, the average trip length is 16.56 minutes\n",
      "and 8.3%of trips are longer than 30 minutes\n",
      "\n",
      "NYC, the average trip length is 15.81 minutes\n",
      "and 7.3%of trips are longer than 30 minutes\n",
      "\n"
     ]
    }
   ],
   "source": [
    "city_info = {'Washington': './data/Washington-2016-Summary.csv',\n",
    "             'Chicago': './data/Chicago-2016-Summary.csv',\n",
    "             'NYC': './data/NYC-2016-Summary.csv'}\n",
    "for city in city_info:\n",
    "    al, pl = avg_trip_length(city_info[city])#al=avegeare_length pl=% longer than 30 min\n",
    "    print(city + \", the average trip length is {0:.2f} minutes\".format(al))\n",
    "    print('and {0:.1f}%of trips are longer than 30 minutes\\n'.format(pl))"
   ]
  },
  {
   "cell_type": "markdown",
   "metadata": {},
   "source": [
    "**Question 4c**: Dig deeper into the question of trip duration based on ridership. Choose one city. Within that city, which type of user takes longer rides on average: Subscribers or Customers?\n",
    "\n",
    "**Answer**:Washington customer takes longer ride, Average Subscriber trip duration is 12.5 minutes\n",
    "and Average customer trip duration is 41.7 minutes\n",
    "\n",
    "Chicago customer takes longer ride, Average Subscriber trip duration is 12.1 minutes\n",
    "and Average customer trip duration is 31.0 minutes\n",
    "\n",
    "NYC customer takes longer ride, Average Subscriber trip duration is 13.7 minutes\n",
    "and Average customer trip duration is 33.0 minutes"
   ]
  },
  {
   "cell_type": "code",
   "execution_count": 12,
   "metadata": {
    "collapsed": true
   },
   "outputs": [],
   "source": [
    "## Use this and additional cells to answer Question 4c. If you have    ##\n",
    "## not done so yet, consider revising some of your previous code to    ##\n",
    "## make use of functions for reusability.                              ##           \n",
    "def avg_trip_length_user_or_sub(filename):\n",
    "    with open(filename, 'r') as f_in:\n",
    "        # set up csv reader object\n",
    "        reader = csv.DictReader(f_in)\n",
    "\n",
    "        subscribers_duration = 0\n",
    "        Customer_duration = 0\n",
    "        # t = int(datum['tripduration'])\n",
    "        for row in reader:\n",
    "\n",
    "            duration = float(row['duration'])\n",
    "            if(row['user_type'] == 'Subscriber'):\n",
    "                subscribers_duration += duration\n",
    "            else:\n",
    "                Customer_duration += duration\n",
    "\n",
    "    return(subscribers_duration, Customer_duration)\n",
    "\n"
   ]
  },
  {
   "cell_type": "code",
   "execution_count": 13,
   "metadata": {},
   "outputs": [
    {
     "name": "stdout",
     "output_type": "stream",
     "text": [
      "Washington, Average Subscriber trip duration is 12.5 minutes\n",
      "and Average customer trip duration is 41.7 minutes\n",
      "\n",
      "Chicago, Average Subscriber trip duration is 12.1 minutes\n",
      "and Average customer trip duration is 31.0 minutes\n",
      "\n",
      "NYC, Average Subscriber trip duration is 13.7 minutes\n",
      "and Average customer trip duration is 33.0 minutes\n",
      "\n"
     ]
    }
   ],
   "source": [
    "city_info = {'Washington': './data/Washington-2016-Summary.csv',\n",
    "             'Chicago': './data/Chicago-2016-Summary.csv',\n",
    "             'NYC': './data/NYC-2016-Summary.csv'}\n",
    "for city in city_info:\n",
    "    #sd=sub dura\n",
    "    sd, cd = avg_trip_length_user_or_sub(city_info[city])\n",
    "    ns, nc, t = number_of_trips(city_info[city])\n",
    "    print(city + \", Average Subscriber trip duration is {0:.1f} minutes\".format(sd/ns))\n",
    "    print('and Average customer trip duration is {0:.1f} minutes\\n'.format(cd/nc))"
   ]
  },
  {
   "cell_type": "markdown",
   "metadata": {},
   "source": [
    "<a id='visualizations'></a>\n",
    "### Visualizations\n",
    "\n",
    "The last set of values that you computed should have pulled up an interesting result. While the mean trip time for Subscribers is well under 30 minutes, the mean trip time for Customers is actually _above_ 30 minutes! It will be interesting for us to look at how the trip times are distributed. In order to do this, a new library will be introduced here, `matplotlib`. Run the cell below to load the library and to generate an example plot."
   ]
  },
  {
   "cell_type": "code",
   "execution_count": 14,
   "metadata": {},
   "outputs": [
    {
     "data": {
      "image/png": "[encoded data removed]",
      "text/plain": [
       "<matplotlib.figure.Figure at 0x6d2d950>"
      ]
     },
     "metadata": {},
     "output_type": "display_data"
    }
   ],
   "source": [
    "# load library\n",
    "import matplotlib.pyplot as plt\n",
    "\n",
    "# this is a 'magic word' that allows for plots to be displayed\n",
    "# inline with the notebook. If you want to know more, see:\n",
    "# http://ipython.readthedocs.io/en/stable/interactive/magics.html\n",
    "%matplotlib inline \n",
    "\n",
    "# example histogram, data taken from bay area sample\n",
    "data = [ 7.65,  8.92,  7.42,  5.50, 16.17,  4.20,  8.98,  9.62, 11.48, 14.33,\n",
    "        19.02, 21.53,  3.90,  7.97,  2.62,  2.67,  3.08, 14.40, 12.90,  7.83,\n",
    "        25.12,  8.30,  4.93, 12.43, 10.60,  6.17, 10.88,  4.78, 15.15,  3.53,\n",
    "         9.43, 13.32, 11.72,  9.85,  5.22, 15.10,  3.95,  3.17,  8.78,  1.88,\n",
    "         4.55, 12.68, 12.38,  9.78,  7.63,  6.45, 17.38, 11.90, 11.52,  8.63,]\n",
    "plt.hist(data)\n",
    "plt.title('Distribution of Trip Durations')\n",
    "plt.xlabel('Duration (m)')\n",
    "plt.show()"
   ]
  },
  {
   "cell_type": "code",
   "execution_count": 15,
   "metadata": {
    "collapsed": true
   },
   "outputs": [],
   "source": [
    "## Use this and additional cells to collect all of the trip times as a list ##\n",
    "## and then use pyplot functions to generate a histogram of trip times.     ##\n",
    "# load library\n",
    "import matplotlib.pyplot as plt\n",
    "%matplotlib inline \n",
    "\n",
    "def plotgraph(file,city):\n",
    "    tdata=[]\n",
    "    with open(file, 'r') as f_in:\n",
    "        reader = csv.DictReader(f_in)\n",
    "        for row in reader:\n",
    "            duration = float(row['duration'])\n",
    "            tdata.append(duration)\n",
    "            \n",
    "    #plt.hist(tdata,range=[0,250])\n",
    "    plt.hist(tdata)\n",
    "    plt.title('Distribution of Trip Durations '+city)\n",
    "    plt.xlabel('Duration (m)')\n",
    "    plt.show()\n"
   ]
  },
  {
   "cell_type": "code",
   "execution_count": 16,
   "metadata": {},
   "outputs": [
    {
     "data": {
      "image/png": "[encoded data removed]",
      "text/plain": [
       "<matplotlib.figure.Figure at 0x6d2d9b0>"
      ]
     },
     "metadata": {},
     "output_type": "display_data"
    },
    {
     "data": {
      "image/png": "[encoded data removed]",
      "text/plain": [
       "<matplotlib.figure.Figure at 0x837e130>"
      ]
     },
     "metadata": {},
     "output_type": "display_data"
    },
    {
     "data": {
      "image/png": "[encoded data removed]",
      "text/plain": [
       "<matplotlib.figure.Figure at 0x83a3070>"
      ]
     },
     "metadata": {},
     "output_type": "display_data"
    }
   ],
   "source": [
    "data_file = './data/Washington-2016-Summary.csv'\n",
    "#plotgraph(data_file)\n",
    "city_info = {'Washington': './data/Washington-2016-Summary.csv',\n",
    "             'Chicago': './data/Chicago-2016-Summary.csv',\n",
    "             'NYC': './data/NYC-2016-Summary.csv'}\n",
    "for city in city_info:\n",
    "    plotgraph(city_info[city],city)\n"
   ]
  },
  {
   "cell_type": "markdown",
   "metadata": {},
   "source": [
    "\n",
    "\n",
    "**Question 5**: Use the parameters of the `.hist()` function to plot the distribution of trip times for the Subscribers in your selected city. Do the same thing for only the Customers. Add limits to the plots so that only trips of duration less than 75 minutes are plotted. As a bonus, set the plots up so that bars are in five-minute wide intervals. For each group, where is the peak of each distribution? How would you describe the shape of each distribution?\n",
    "\n",
    "**Answer**:\n",
    "Washington:\n",
    ">Distribution of Trip Durations for Subscribers graph is a unimodel with peak in range [7.5-15] is a skewed right histogram,Distribution of Trip Durations for customer peak is a unimodel with peak in range [15-20] is a skewed right histogram\n",
    "\n",
    "Chicago:\n",
    ">Distribution of Trip Durations for Subscribers graph is a unimodel with peak in range [7.5-15] is a skewed right histogram,Distribution of Trip Durations for customer peak is a unimodel with peak in range [15-20] is a skewed right histogram\n",
    "\n",
    "\n",
    "NYC:\n",
    ">Distribution of Trip Durations for Subscribers graph is a unimodel with peak in range [7.5-15] is a skewed right histogram,Distribution of Trip Durations for customer peak is a unimodel with peak in range [15-20] is a skewed right histogram"
   ]
  },
  {
   "cell_type": "code",
   "execution_count": 17,
   "metadata": {
    "collapsed": true
   },
   "outputs": [],
   "source": [
    "## Use this and additional cells to answer Question 5. ##\n",
    "import numpy as np\n",
    "def plotgraph_sub_cus(file,city):\n",
    "    sub_data=[]\n",
    "    customer_data=[]\n",
    "    with open(file, 'r') as f_in:\n",
    "        reader = csv.DictReader(f_in)\n",
    "        for row in reader:\n",
    "            if row['user_type'] == 'Subscriber':\n",
    "                sub_data.append(float(row['duration']))\n",
    "            else:\n",
    "                customer_data.append(float(row['duration']))\n",
    "    \n",
    "    #plt.hist(tdata,range=[0,250])\n",
    "    x=plt.hist(sub_data,range=[0,75],rwidth=5)\n",
    "    peak_l=x[0]\n",
    "    peak=max(peak_l)\n",
    "    plt.title('Distribution of Trip Durations for Sub in '+ city)\n",
    "    plt.xlabel('Duration (m)')\n",
    "    plt.xticks(np.arange(0,75,5))\n",
    "    plt.show()\n",
    "    print('Above graph peak='+str(peak))\n",
    "    x=plt.hist(customer_data,range=[0,75])\n",
    "    peak_l=x[0]\n",
    "    peak=max(peak_l)\n",
    "    plt.title('Distribution of Trip Durations for customer '+ city)\n",
    "    plt.xlabel('Duration (m)')\n",
    "    plt.xticks(np.arange(0,75,5))\n",
    "    plt.show()\n",
    "    print('Above graph peak='+str(peak))"
   ]
  },
  {
   "cell_type": "code",
   "execution_count": 18,
   "metadata": {},
   "outputs": [
    {
     "data": {
      "image/png": "[encoded data removed]",
      "text/plain": [
       "<matplotlib.figure.Figure at 0x9701470>"
      ]
     },
     "metadata": {},
     "output_type": "display_data"
    },
    {
     "name": "stdout",
     "output_type": "stream",
     "text": [
      "Above graph peak=19841.0\n"
     ]
    },
    {
     "data": {
      "image/png": "[encoded data removed]",
      "text/plain": [
       "<matplotlib.figure.Figure at 0x8063c30>"
      ]
     },
     "metadata": {},
     "output_type": "display_data"
    },
    {
     "name": "stdout",
     "output_type": "stream",
     "text": [
      "Above graph peak=2970.0\n"
     ]
    },
    {
     "data": {
      "image/png": "[encoded data removed]",
      "text/plain": [
       "<matplotlib.figure.Figure at 0x96fa050>"
      ]
     },
     "metadata": {},
     "output_type": "display_data"
    },
    {
     "name": "stdout",
     "output_type": "stream",
     "text": [
      "Above graph peak=20840.0\n"
     ]
    },
    {
     "data": {
      "image/png": "[encoded data removed]",
      "text/plain": [
       "<matplotlib.figure.Figure at 0x835b170>"
      ]
     },
     "metadata": {},
     "output_type": "display_data"
    },
    {
     "name": "stdout",
     "output_type": "stream",
     "text": [
      "Above graph peak=4352.0\n"
     ]
    },
    {
     "data": {
      "image/png": "[encoded data removed]",
      "text/plain": [
       "<matplotlib.figure.Figure at 0x96dd510>"
      ]
     },
     "metadata": {},
     "output_type": "display_data"
    },
    {
     "name": "stdout",
     "output_type": "stream",
     "text": [
      "Above graph peak=90490.0\n"
     ]
    },
    {
     "data": {
      "image/png": "[encoded data removed]",
      "text/plain": [
       "<matplotlib.figure.Figure at 0x8441230>"
      ]
     },
     "metadata": {},
     "output_type": "display_data"
    },
    {
     "name": "stdout",
     "output_type": "stream",
     "text": [
      "Above graph peak=7877.0\n"
     ]
    }
   ],
   "source": [
    "city_info = {'Washington': './data/Washington-2016-Summary.csv',\n",
    "             'Chicago': './data/Chicago-2016-Summary.csv',\n",
    "             'NYC': './data/NYC-2016-Summary.csv'}\n",
    "for city in city_info:\n",
    "    plotgraph_sub_cus(city_info[city],city)"
   ]
  },
  {
   "cell_type": "markdown",
   "metadata": {
    "collapsed": true
   },
   "source": [
    "<a id='eda_continued'></a>\n",
    "## Performing Your Own Analysis\n",
    "\n",
    "So far, you've performed an initial exploration into the data available. You have compared the relative volume of trips made between three U.S. cities and the ratio of trips made by Subscribers and Customers. For one of these cities, you have investigated differences between Subscribers and Customers in terms of how long a typical trip lasts. Now it is your turn to continue the exploration in a direction that you choose. Here are a few suggestions for questions to explore:\n",
    "\n",
    "- How does ridership differ by month or season? Which month / season has the highest ridership? Does the ratio of Subscriber trips to Customer trips change depending on the month or season?\n",
    "- Is the pattern of ridership different on the weekends versus weekdays? On what days are Subscribers most likely to use the system? What about Customers? Does the average duration of rides change depending on the day of the week?\n",
    "- During what time of day is the system used the most? Is there a difference in usage patterns for Subscribers and Customers?\n",
    "\n",
    "\n",
    "**Question 6**: Continue the investigation by exploring another question that could be answered by the data available. Document the question you want to explore below. Your investigation should involve at least two variables and should compare at least two groups. You should also use at least one visualization as part of your explorations.\n",
    "\n",
    "**Answer**:*Q:Which month the customers & subscribers are most active,what is there peak value?\n",
    "\n",
    "- Most actity of the Washington, Subscriber is at month=6 , Peak value=5613.0\n",
    "- Most actity of the Washington Customer is at month=7 , Peak value=2186.0\n",
    "- Most actity of the Chicago Subscriber is at month=6 , Peak value=7182.0\n",
    "- Most actity of the Chicago Customer is at month=7 , Peak value=3323.0\n",
    "- Most actity of the NYC Subscriber is at month=10 , Peak value=28513.0\n",
    "- Most actity of the NYC Customer is at month=8 , Peak value=4412.0\n",
    "\n"
   ]
  },
  {
   "cell_type": "code",
   "execution_count": 19,
   "metadata": {
    "collapsed": true
   },
   "outputs": [],
   "source": [
    "#function to plot the graph showing relationship btw cus/subs with thier activity\n",
    "def plotgraph_month_sub_cus(file, city):\n",
    "    sub_data = []\n",
    "    customer_data = []\n",
    "    month = []\n",
    "    with open(file, 'r') as f_in:\n",
    "        reader = csv.DictReader(f_in)\n",
    "        for row in reader:\n",
    "            if row['user_type'] == 'Subscriber':\n",
    "                sub_data.append(float(row['month']))\n",
    "            else:\n",
    "                customer_data.append(float(row['month']))\n",
    "\n",
    "    legend = ['Subs', 'Cus']\n",
    "    z = plt.hist([sub_data, customer_data], range=[1, 13], rwidth=.5,\n",
    "                 bins=12, align='left', color=['orange', 'green'])\n",
    "    plt.title('Month in which most active subs & customer in ' + city)\n",
    "    plt.xlabel(\"Months\")\n",
    "    plt.ylabel(\"Frequency\")\n",
    "    plt.legend(legend)\n",
    "    plt.xticks(range(1, 13, 1))\n",
    "    plt.show()\n",
    "    # peak_sub_l=list to find peak subscribers values\n",
    "    # peak_sub =peak value\n",
    "\n",
    "    peak_sub_l = []\n",
    "    peak_sub_l = z[0][0]\n",
    "    peak_sub = max(peak_sub_l)\n",
    "    # .tolist() convert to list to find index ,use index as peak month\n",
    "    sub_index = peak_sub_l.tolist().index(peak_sub)\n",
    "    print('Most actity of the {} Subscriber is at month={} , Peak value={}'.format(city, sub_index+1, peak_sub))\n",
    "\n",
    "    peak_cus_l = []\n",
    "    peak_cus_l = z[0][1]\n",
    "    peak_cus = max(peak_cus_l)\n",
    "    cus_index = peak_cus_l.tolist().index(peak_cus)\n",
    "    print('Most actity of the {} Customer is at month={} , Peak value={}'.format(city, cus_index+1, peak_cus))"
   ]
  },
  {
   "cell_type": "code",
   "execution_count": 20,
   "metadata": {},
   "outputs": [
    {
     "data": {
      "image/png": "[encoded data removed]",
      "text/plain": [
       "<matplotlib.figure.Figure at 0x96ddbd0>"
      ]
     },
     "metadata": {},
     "output_type": "display_data"
    },
    {
     "name": "stdout",
     "output_type": "stream",
     "text": [
      "Most actity of the Washington Subscriber is at month=6 , Peak value=5613.0\n",
      "Most actity of the Washington Customer is at month=7 , Peak value=2186.0\n"
     ]
    },
    {
     "data": {
      "image/png": "[encoded data removed]",
      "text/plain": [
       "<matplotlib.figure.Figure at 0x7d47d70>"
      ]
     },
     "metadata": {},
     "output_type": "display_data"
    },
    {
     "name": "stdout",
     "output_type": "stream",
     "text": [
      "Most actity of the Chicago Subscriber is at month=6 , Peak value=7182.0\n",
      "Most actity of the Chicago Customer is at month=7 , Peak value=3323.0\n"
     ]
    },
    {
     "data": {
      "image/png": "[encoded data removed]",
      "text/plain": [
       "<matplotlib.figure.Figure at 0x97cb2f0>"
      ]
     },
     "metadata": {},
     "output_type": "display_data"
    },
    {
     "name": "stdout",
     "output_type": "stream",
     "text": [
      "Most actity of the NYC Subscriber is at month=10 , Peak value=28513.0\n",
      "Most actity of the NYC Customer is at month=8 , Peak value=4412.0\n"
     ]
    }
   ],
   "source": [
    "city_info = {'Washington': './data/Washington-2016-Summary.csv',\n",
    "             'Chicago': './data/Chicago-2016-Summary.csv',\n",
    "             'NYC': './data/NYC-2016-Summary.csv'}\n",
    "for city in city_info:\n",
    "    plotgraph_month_sub_cus(city_info[city],city)"
   ]
  },
  {
   "cell_type": "markdown",
   "metadata": {},
   "source": [
    "<a id='conclusions'></a>\n",
    "## Conclusions\n",
    "\n",
    "Congratulations on completing the project! This is only a sampling of the data analysis process: from generating questions, wrangling the data, and to exploring the data. Normally, at this point in the data analysis process, you might want to draw conclusions about the data by performing a statistical test or fitting the data to a model for making predictions. There are also a lot of potential analyses that could be performed on the data which are not possible with only the data provided. For example, detailed location data has not been investigated. Where are the most commonly used docks? What are the most common routes? As another example, weather has potential to have a large impact on daily ridership. How much is ridership impacted when there is rain or snow? Are subscribers or customers affected more by changes in weather?\n",
    "\n",
    "**Question 7**: Putting the bike share data aside, think of a topic or field of interest where you would like to be able to apply the techniques of data science. What would you like to be able to learn from your chosen subject?\n",
    "\n",
    "**Answer**: Techniques of data science have the potential to be used in technical analysis for stock picking as  day trading is completely based on charts.What I would like to learn is to understand the patterns and make predictive models.  \n",
    "\n"
   ]
  },
  {
   "cell_type": "code",
   "execution_count": 21,
   "metadata": {},
   "outputs": [
    {
     "data": {
      "text/plain": [
       "0"
      ]
     },
     "execution_count": 21,
     "metadata": {},
     "output_type": "execute_result"
    }
   ],
   "source": [
    "from subprocess import call\n",
    "call(['python', '-m', 'nbconvert', 'Bike_Share_Analysis.ipynb'])"
   ]
  }
 ],
 "metadata": {
  "anaconda-cloud": {},
  "kernelspec": {
   "display_name": "Python 3",
   "language": "python",
   "name": "python3"
  },
  "language_info": {
   "codemirror_mode": {
    "name": "ipython",
    "version": 3
   },
   "file_extension": ".py",
   "mimetype": "text/x-python",
   "name": "python",
   "nbconvert_exporter": "python",
   "pygments_lexer": "ipython3",
   "version": "3.6.4"
  }
 },
 "nbformat": 4,
 "nbformat_minor": 1
}
